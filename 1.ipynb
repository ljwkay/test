{
 "cells": [
  {
   "cell_type": "markdown",
   "id": "f47d5c6b-68b0-4135-93ad-a6dd15ff6414",
   "metadata": {},
   "source": [
    "# Session 1"
   ]
  },
  {
   "cell_type": "markdown",
   "id": "5c50e467-6a18-46e8-b77b-5ccdd1864821",
   "metadata": {
    "tags": []
   },
   "source": [
    "# 최근접이웃 알고리즘 - 분류"
   ]
  },
  {
   "cell_type": "markdown",
   "id": "c2e061f9-e949-4aa2-b5ac-59e88ce9712d",
   "metadata": {},
   "source": [
    "## 1. 데이터 불러오기"
   ]
  },
  {
   "cell_type": "code",
   "execution_count": 3,
   "id": "495c7941-3b16-4c52-90a8-6478acbb1a29",
   "metadata": {},
   "outputs": [],
   "source": [
    "bream_length = [25.4, 26.3, 26.5, 29.0, 29.0, 29.7, 29.7, 30.0, 30.0, 30.7, 31.0, 31.0, 31.5, 32.0, 32.0, 32.0, 33.0, 33.0, 33.5, 33.5, 34.0, 34.0, 34.5, 35.0, 35.0, 35.0, 35.0, 36.0, 36.0, 37.0, 38.5, 38.5, 39.5, 41.0, 41.0]\n",
    "bream_weight = [242.0, 290.0, 340.0, 363.0, 430.0, 450.0, 500.0, 390.0, 450.0, 500.0, 475.0, 500.0, 500.0, 340.0, 600.0, 600.0, 700.0, 700.0, 610.0, 650.0, 575.0, 685.0, 620.0, 680.0, 700.0, 725.0, 720.0, 714.0, 850.0, 1000.0, 920.0, 955.0, 925.0, 975.0, 950.0]"
   ]
  },
  {
   "cell_type": "code",
   "execution_count": 4,
   "id": "e52630c1-2eb9-49ff-b8ff-5a6abb0440df",
   "metadata": {},
   "outputs": [],
   "source": [
    "smelt_length = [9.8, 10.5, 10.6, 11.0, 11.2, 11.3, 11.8, 11.8, 12.0, 12.2, 12.4, 13.0, 14.3, 15.0]\n",
    "smelt_weight = [6.7, 7.5, 7.0, 9.7, 9.8, 8.7, 10.0, 9.9, 9.8, 12.2, 13.4, 12.2, 19.7, 19.9]"
   ]
  },
  {
   "cell_type": "markdown",
   "id": "d15f7207-323b-437f-8ed9-ffff4c1dd94e",
   "metadata": {
    "tags": []
   },
   "source": [
    "## 2. 데이터 살펴보기"
   ]
  },
  {
   "cell_type": "code",
   "execution_count": null,
   "id": "d0f83ab0-70dc-4128-aa04-4d9c27c3ba92",
   "metadata": {},
   "outputs": [
    {
     "data": {
      "image/png": "[encoded data removed]",
      "text/plain": [
       "<Figure size 720x576 with 1 Axes>"
      ]
     },
     "metadata": {
      "needs_background": "light"
     },
     "output_type": "display_data"
    }
   ],
   "source": [
    "import matplotlib.pyplot as plt\n",
    "\n",
    "plt.figure(figsize=(10,8))\n",
    "plt.scatter(bream_length, bream_weight)\n",
    "plt.scatter(smelt_length, smelt_weight)\n",
    "plt.title('Scatter of fishes')\n",
    "plt.xlabel('length')\n",
    "plt.ylabel('weight')\n",
    "plt.show()"
   ]
  },
  {
   "cell_type": "markdown",
   "id": "eb36d577-ddf9-4dec-a929-30918a76ac1d",
   "metadata": {},
   "source": [
    "## 3. 데이터 준비하기"
   ]
  },
  {
   "cell_type": "code",
   "execution_count": 17,
   "id": "030d6933-7757-45a9-a484-e9292b46ba2f",
   "metadata": {},
   "outputs": [],
   "source": [
    "fish_length = bream_length + smelt_length\n",
    "fish_weight = bream_weight + smelt_weight"
   ]
  },
  {
   "cell_type": "code",
   "execution_count": 18,
   "id": "c1c1156e-d640-4d94-bbb1-8b3d7d04c7de",
   "metadata": {},
   "outputs": [],
   "source": [
    "fish_data = list(zip(fish_length, fish_weight))"
   ]
  },
  {
   "cell_type": "code",
   "execution_count": 19,
   "id": "3eced9d9-d830-4372-a216-f9804a97680f",
   "metadata": {
    "tags": []
   },
   "outputs": [],
   "source": [
    "fish_data = list(zip(fish_length, fish_weight))"
   ]
  },
  {
   "cell_type": "code",
   "execution_count": 20,
   "id": "7722670d-1203-4b91-82e0-79857f8ddf96",
   "metadata": {
    "tags": []
   },
   "outputs": [],
   "source": [
    "fish_target = [1] * len(bream_length) + [0] * len(smelt_length)"
   ]
  },
  {
   "cell_type": "markdown",
   "id": "d0e0c299-0e3e-4429-9843-e4316c630d02",
   "metadata": {},
   "source": [
    "## 4. 머신러닝 훈련하기"
   ]
  },
  {
   "cell_type": "code",
   "execution_count": 21,
   "id": "fe02ed82-2d4c-4242-a361-e1d4c0cb5dfb",
   "metadata": {},
   "outputs": [
    {
     "data": {
      "text/plain": [
       "KNeighborsClassifier()"
      ]
     },
     "execution_count": 21,
     "metadata": {},
     "output_type": "execute_result"
    }
   ],
   "source": [
    "from sklearn.neighbors import KNeighborsClassifier\n",
    "\n",
    "kn_clf = KNeighborsClassifier()\n",
    "kn_clf.fit(fish_data, fish_target)"
   ]
  },
  {
   "cell_type": "code",
   "execution_count": 23,
   "id": "641fcd75-1728-4b8f-923d-f9aac25b1e30",
   "metadata": {},
   "outputs": [
    {
     "data": {
      "text/plain": [
       "1.0"
      ]
     },
     "execution_count": 23,
     "metadata": {},
     "output_type": "execute_result"
    }
   ],
   "source": [
    "kn_clf.score(fish_data, fish_target)"
   ]
  },
  {
   "cell_type": "markdown",
   "id": "79630fff-e9dc-4cb0-bac7-a157b1fae1df",
   "metadata": {
    "tags": []
   },
   "source": [
    "## 5. 예측하기"
   ]
  },
  {
   "cell_type": "code",
   "execution_count": 43,
   "id": "599b7d52-b2f7-416f-af72-0d0c834a9496",
   "metadata": {},
   "outputs": [
    {
     "name": "stdin",
     "output_type": "stream",
     "text": [
      " 20\n",
      " 170\n"
     ]
    },
    {
     "data": {
      "text/plain": [
       "array([0])"
      ]
     },
     "execution_count": 43,
     "metadata": {},
     "output_type": "execute_result"
    }
   ],
   "source": [
    "inp_length = int(input())\n",
    "inp_weight = int(input())\n",
    "this_fish = (inp_length, inp_weight)\n",
    "\n",
    "kn_clf.predict([this_fish])"
   ]
  },
  {
   "cell_type": "code",
   "execution_count": 44,
   "id": "b4b9b2b7-77d9-4170-bcd9-5da7d06f13a0",
   "metadata": {},
   "outputs": [
    {
     "data": {
      "image/png": "[encoded data removed]",
      "text/plain": [
       "<Figure size 720x576 with 1 Axes>"
      ]
     },
     "metadata": {
      "needs_background": "light"
     },
     "output_type": "display_data"
    }
   ],
   "source": [
    "import matplotlib.pyplot as plt\n",
    "\n",
    "plt.figure(figsize=(10,8))\n",
    "plt.scatter(bream_length, bream_weight)\n",
    "plt.scatter(smelt_length, smelt_weight)\n",
    "\n",
    "plt.scatter(inp_length, inp_weight, marker='^', s=300)\n",
    "\n",
    "plt.title('Scatter of fishes')\n",
    "plt.xlabel('length')\n",
    "plt.ylabel('weight')\n",
    "plt.show()"
   ]
  },
  {
   "cell_type": "markdown",
   "id": "2610f93a-6b68-45a9-b230-25c1d44612df",
   "metadata": {},
   "source": [
    "## 6. 모델 검증하기"
   ]
  },
  {
   "cell_type": "code",
   "execution_count": 56,
   "id": "57e5376d-ddf5-4d56-8805-a25c39c46fa7",
   "metadata": {},
   "outputs": [
    {
     "data": {
      "text/plain": [
       "49"
      ]
     },
     "execution_count": 56,
     "metadata": {},
     "output_type": "execute_result"
    }
   ],
   "source": [
    "len(kn_clf._fit_X)"
   ]
  },
  {
   "cell_type": "code",
   "execution_count": 57,
   "id": "61cd8df9-1a1c-4368-9b7f-64eb55214349",
   "metadata": {},
   "outputs": [
    {
     "data": {
      "text/plain": [
       "49"
      ]
     },
     "execution_count": 57,
     "metadata": {},
     "output_type": "execute_result"
    }
   ],
   "source": [
    "len(kn_clf._y)"
   ]
  },
  {
   "cell_type": "markdown",
   "id": "0002acab-61ce-4b29-a0ad-37a52ed0575a",
   "metadata": {},
   "source": [
    "# 데이터셋 분리"
   ]
  },
  {
   "cell_type": "code",
   "execution_count": 99,
   "id": "b6565ca8-5674-418e-8feb-671666c7dbcb",
   "metadata": {},
   "outputs": [],
   "source": [
    "from sklearn.model_selection import train_test_split\n",
    "\n",
    "train_input, test_input, train_label, test_label = train_test_split(fish_data, fish_target, random_state=5, test_size=0.3, shuffle=True, stratify=fish_target)"
   ]
  },
  {
   "cell_type": "code",
   "execution_count": 80,
   "id": "b9d76579-2b72-450e-9201-25b8d08cbb03",
   "metadata": {},
   "outputs": [
    {
     "data": {
      "text/plain": [
       "1.0"
      ]
     },
     "execution_count": 103,
     "metadata": {},
     "output_type": "execute_result"
    }
   ],
   "source": [
    "from sklearn.neighbors import KNeighborsClassifier\n",
    "\n",
    "kn_clf_new = KNeighborsClassifier(n_neighbors=5)\n",
    "kn_clf_new.fit(train_input, train_label)\n",
    "kn_clf_new.score(test_input, test_label)"
   ]
  }
 ],
 "metadata": {
  "kernelspec": {
   "display_name": "Python 3 (ipykernel)",
   "language": "python",
   "name": "python3"
  },
  "language_info": {
   "codemirror_mode": {
    "name": "ipython",
    "version": 3
   },
   "file_extension": ".py",
   "mimetype": "text/x-python",
   "name": "python",
   "nbconvert_exporter": "python",
   "pygments_lexer": "ipython3",
   "version": "3.9.7"
  }
 },
 "nbformat": 4,
 "nbformat_minor": 5
}
