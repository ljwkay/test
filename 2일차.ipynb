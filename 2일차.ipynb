{
  "nbformat": 4,
  "nbformat_minor": 0,
  "metadata": {
    "colab": {
      "name": "2일차.ipynb",
      "provenance": [],
      "collapsed_sections": []
    },
    "kernelspec": {
      "name": "python3",
      "display_name": "Python 3"
    }
  },
  "cells": [
    {
      "cell_type": "markdown",
      "metadata": {
        "id": "if-GYqaDjYO8"
      },
      "source": [
        "# 변수"
      ]
    },
    {
      "cell_type": "code",
      "metadata": {
        "id": "ravIo7vJjSZe"
      },
      "source": [
        "# 변수 생성\r\n",
        "myVar = \"파이썬 프로그래밍 기초 다지기!\""
      ],
      "execution_count": null,
      "outputs": []
    },
    {
      "cell_type": "code",
      "metadata": {
        "colab": {
          "base_uri": "https://localhost:8080/",
          "height": 35
        },
        "id": "npvqCwcJj4_U",
        "outputId": "d23e85a3-79c1-42ee-cd8f-36bffe5d7172"
      },
      "source": [
        "# 생성된 변수 참조\r\n",
        "print(myVar)"
      ],
      "execution_count": null,
      "outputs": [
        {
          "output_type": "execute_result",
          "data": {
            "application/vnd.google.colaboratory.intrinsic+json": {
              "type": "string"
            },
            "text/plain": [
              "'파이썬 프로그래밍 기초 다지기!'"
            ]
          },
          "metadata": {
            "tags": []
          },
          "execution_count": 3
        }
      ]
    },
    {
      "cell_type": "markdown",
      "metadata": {
        "id": "FVlUkmEGoFEe"
      },
      "source": [
        "# 자료형"
      ]
    },
    {
      "cell_type": "code",
      "metadata": {
        "colab": {
          "base_uri": "https://localhost:8080/"
        },
        "id": "MkMkDaxXoJY9",
        "outputId": "14c438db-4e91-4d92-f031-be40ea839590"
      },
      "source": [
        "# type()은 변수가 어떤 자료형을 가졌는지 나타내주는 함수이다!\r\n",
        "print(type(myVar))"
      ],
      "execution_count": null,
      "outputs": [
        {
          "output_type": "stream",
          "text": [
            "<class 'str'>\n"
          ],
          "name": "stdout"
        }
      ]
    },
    {
      "cell_type": "code",
      "metadata": {
        "colab": {
          "base_uri": "https://localhost:8080/"
        },
        "id": "2h-nhWkSokUk",
        "outputId": "c9d8ca47-c0f0-4ce7-f82d-ff8b900ef5d5"
      },
      "source": [
        "# 정수 5의 자료형은 integer!\r\n",
        "print(type(5))"
      ],
      "execution_count": null,
      "outputs": [
        {
          "output_type": "stream",
          "text": [
            "<class 'int'>\n"
          ],
          "name": "stdout"
        }
      ]
    },
    {
      "cell_type": "code",
      "metadata": {
        "colab": {
          "base_uri": "https://localhost:8080/"
        },
        "id": "PJyh8y4Won0Z",
        "outputId": "5e4425dd-9acc-425d-ef00-f78f963557dd"
      },
      "source": [
        "# 소수 2.5의 자료형은 float!\r\n",
        "print(type(2.5))"
      ],
      "execution_count": null,
      "outputs": [
        {
          "output_type": "stream",
          "text": [
            "<class 'float'>\n"
          ],
          "name": "stdout"
        }
      ]
    },
    {
      "cell_type": "code",
      "metadata": {
        "colab": {
          "base_uri": "https://localhost:8080/"
        },
        "id": "FX_hkIyoqwKt",
        "outputId": "0d4f8a13-df86-4cba-c0c4-fecdaa1f04ad"
      },
      "source": [
        "# 불 대수 True의 자료형은 boolean!\r\n",
        "print(type(True))"
      ],
      "execution_count": null,
      "outputs": [
        {
          "output_type": "stream",
          "text": [
            "<class 'bool'>\n"
          ],
          "name": "stdout"
        }
      ]
    },
    {
      "cell_type": "code",
      "metadata": {
        "colab": {
          "base_uri": "https://localhost:8080/"
        },
        "id": "cvbQcTCFhqE_",
        "outputId": "e158e086-c354-42a6-e380-1c2c475d62e9"
      },
      "source": [
        "print(1 == 2)"
      ],
      "execution_count": null,
      "outputs": [
        {
          "output_type": "execute_result",
          "data": {
            "text/plain": [
              "False"
            ]
          },
          "metadata": {
            "tags": []
          },
          "execution_count": 1
        }
      ]
    },
    {
      "cell_type": "code",
      "metadata": {
        "colab": {
          "base_uri": "https://localhost:8080/"
        },
        "id": "Ysq_Yf1hhtep",
        "outputId": "6944ea5f-3b42-4fd8-de17-81398f8cc1c3"
      },
      "source": [
        "print(3 == 3)"
      ],
      "execution_count": null,
      "outputs": [
        {
          "output_type": "execute_result",
          "data": {
            "text/plain": [
              "True"
            ]
          },
          "metadata": {
            "tags": []
          },
          "execution_count": 2
        }
      ]
    },
    {
      "cell_type": "code",
      "metadata": {
        "colab": {
          "base_uri": "https://localhost:8080/"
        },
        "id": "BzzGsK-vhuYr",
        "outputId": "236b160a-fe3e-471b-8c72-c737bb97d80d"
      },
      "source": [
        "print(\"Korea\" == \"Yonsei\")"
      ],
      "execution_count": null,
      "outputs": [
        {
          "output_type": "stream",
          "text": [
            "False\n"
          ],
          "name": "stdout"
        }
      ]
    },
    {
      "cell_type": "code",
      "metadata": {
        "colab": {
          "base_uri": "https://localhost:8080/"
        },
        "id": "4XzUFOOLh1hb",
        "outputId": "533438d9-61d6-429e-ad7e-4139606458e3"
      },
      "source": [
        "print(\"Korea\" != \"Yonsei\")"
      ],
      "execution_count": null,
      "outputs": [
        {
          "output_type": "stream",
          "text": [
            "True\n"
          ],
          "name": "stdout"
        }
      ]
    },
    {
      "cell_type": "markdown",
      "metadata": {
        "id": "7ehrdc8tpCQ_"
      },
      "source": [
        "## 리스트"
      ]
    },
    {
      "cell_type": "code",
      "metadata": {
        "colab": {
          "base_uri": "https://localhost:8080/"
        },
        "id": "yACdBLZPoo26",
        "outputId": "bfbba8ed-e13c-499a-fa19-d1074e8754df"
      },
      "source": [
        "# 쇼핑 갈때 사올 물품들을 리스트로 정리해보자! -> 중복 허용을 강조\r\n",
        "shopping_list = [\"빵\",\"우유\",\"달걀\",\"과일\",\"쌀\",\"파스타\",\"버터\"]\r\n",
        "print(type(shopping_list))"
      ],
      "execution_count": null,
      "outputs": [
        {
          "output_type": "stream",
          "text": [
            "<class 'list'>\n"
          ],
          "name": "stdout"
        }
      ]
    },
    {
      "cell_type": "code",
      "metadata": {
        "colab": {
          "base_uri": "https://localhost:8080/"
        },
        "id": "EPQGeRFCpAZ-",
        "outputId": "78850206-364e-4e2c-89e5-0fd679d8694a"
      },
      "source": [
        "# 첫번째 인덱스의 쇼핑 물품은?\r\n",
        "print(shopping_list[0])"
      ],
      "execution_count": null,
      "outputs": [
        {
          "output_type": "stream",
          "text": [
            "빵\n"
          ],
          "name": "stdout"
        }
      ]
    },
    {
      "cell_type": "code",
      "metadata": {
        "colab": {
          "base_uri": "https://localhost:8080/"
        },
        "id": "4EW-gfoMpHVL",
        "outputId": "98665716-51ea-4616-99e1-236822db1a4e"
      },
      "source": [
        "# 쇼핑 리스트의 3번째 물품부터 5번째 물품까지가 뭐였더라?\r\n",
        "print(shopping_list[2:5])"
      ],
      "execution_count": null,
      "outputs": [
        {
          "output_type": "stream",
          "text": [
            "['달걀', '과일', '쌀']\n"
          ],
          "name": "stdout"
        }
      ]
    },
    {
      "cell_type": "code",
      "metadata": {
        "colab": {
          "base_uri": "https://localhost:8080/"
        },
        "id": "T8Dm9tSepKEp",
        "outputId": "d9c8f97c-0962-425d-ef92-fa3d0e18e445"
      },
      "source": [
        "# 동생이 간김에 과자를 사다달라고 부탁한다!\r\n",
        "shopping_list.append(\"과자\")\r\n",
        "print(shopping_list)"
      ],
      "execution_count": null,
      "outputs": [
        {
          "output_type": "stream",
          "text": [
            "['빵', '우유', '달걀', '과일', '쌀', '파스타', '버터', '과자']\n"
          ],
          "name": "stdout"
        }
      ]
    },
    {
      "cell_type": "code",
      "metadata": {
        "colab": {
          "base_uri": "https://localhost:8080/"
        },
        "id": "NLsCfUC7paif",
        "outputId": "8b609d0f-9fb6-42d3-ad2b-3ac00d66a1e7"
      },
      "source": [
        "# 동생이 집에 우유가 아직 남아있다고 말한다!\r\n",
        "shopping_list.remove(\"우유\")\r\n",
        "print(shopping_list)"
      ],
      "execution_count": null,
      "outputs": [
        {
          "output_type": "stream",
          "text": [
            "['빵', '달걀', '과일', '쌀', '파스타', '버터', '과자']\n"
          ],
          "name": "stdout"
        }
      ]
    },
    {
      "cell_type": "markdown",
      "metadata": {
        "id": "wbR5TDRmpo6f"
      },
      "source": [
        "## 집합자료형"
      ]
    },
    {
      "cell_type": "code",
      "metadata": {
        "colab": {
          "base_uri": "https://localhost:8080/"
        },
        "id": "USDWAmtDpgEl",
        "outputId": "bfe61f5f-c2cd-4f2b-aec8-e690368d2535"
      },
      "source": [
        "# 중복해서 적더라도 하나만 남겨주는 편리한 자료형 set! -> 순서 허용 X\r\n",
        "shopping_set = set([\"바나나\", \"바나나\", \"우유\", \"쌀\", \"버터\"])\r\n",
        "print(shopping_set)"
      ],
      "execution_count": null,
      "outputs": [
        {
          "output_type": "stream",
          "text": [
            "{'바나나', '쌀', '우유', '버터'}\n"
          ],
          "name": "stdout"
        }
      ]
    },
    {
      "cell_type": "code",
      "metadata": {
        "colab": {
          "base_uri": "https://localhost:8080/"
        },
        "id": "3g69A1cWp9Nk",
        "outputId": "59441bec-25ce-4baa-f4ba-53c0f2efea50"
      },
      "source": [
        "# set는 리스트와는 달리 add()함수를 이용해서 새로운 요소를 추가한다.\r\n",
        "shopping_set.add(\"파스타\")\r\n",
        "print(shopping_set)"
      ],
      "execution_count": null,
      "outputs": [
        {
          "output_type": "stream",
          "text": [
            "{'파스타', '쌀', '우유', '바나나', '버터'}\n"
          ],
          "name": "stdout"
        }
      ]
    },
    {
      "cell_type": "code",
      "metadata": {
        "colab": {
          "base_uri": "https://localhost:8080/"
        },
        "id": "ESZxalOhqM0L",
        "outputId": "22060c75-d95c-4b7a-fccd-6268c1185a65"
      },
      "source": [
        "# 이미 set에 존재하는 물품을 또 넣을 경우 추가되지 않는다.\r\n",
        "shopping_set.add(\"쌀\")\r\n",
        "print(shopping_set)"
      ],
      "execution_count": null,
      "outputs": [
        {
          "output_type": "stream",
          "text": [
            "{'파스타', '쌀', '우유', '바나나', '버터'}\n"
          ],
          "name": "stdout"
        }
      ]
    },
    {
      "cell_type": "code",
      "metadata": {
        "colab": {
          "base_uri": "https://localhost:8080/"
        },
        "id": "5iJ4AzpfqRDz",
        "outputId": "b934e47f-9add-4c03-9a79-68f926c7dacd"
      },
      "source": [
        "# 지우는 것은 리스트와 동일!\r\n",
        "shopping_set.remove(\"쌀\")\r\n",
        "print(shopping_set)"
      ],
      "execution_count": null,
      "outputs": [
        {
          "output_type": "stream",
          "text": [
            "{'파스타', '우유', '바나나', '버터'}\n"
          ],
          "name": "stdout"
        }
      ]
    },
    {
      "cell_type": "markdown",
      "metadata": {
        "id": "VRlR_VwCoCvY"
      },
      "source": [
        "# 인덱싱"
      ]
    },
    {
      "cell_type": "code",
      "metadata": {
        "id": "0oURtV0bu3vi"
      },
      "source": [
        "myVar = \"파이썬 프로그래밍 기초 다지기!\""
      ],
      "execution_count": null,
      "outputs": []
    },
    {
      "cell_type": "code",
      "metadata": {
        "colab": {
          "base_uri": "https://localhost:8080/"
        },
        "id": "PHpCbdK9oDnS",
        "outputId": "51d81707-1159-464b-9050-1d0aa4d622a4"
      },
      "source": [
        "# 변수의 0번째 (1번째) 요소 참조!\r\n",
        "print(myVar[0])"
      ],
      "execution_count": null,
      "outputs": [
        {
          "output_type": "stream",
          "text": [
            "파\n"
          ],
          "name": "stdout"
        }
      ]
    },
    {
      "cell_type": "code",
      "metadata": {
        "colab": {
          "base_uri": "https://localhost:8080/"
        },
        "id": "YYMadsCRoZuC",
        "outputId": "8e089b59-cd20-4109-a730-ef382df8f0f3"
      },
      "source": [
        "# 변수의 1번째 (2번째) 요소 참조!\r\n",
        "print(myVar[1])"
      ],
      "execution_count": null,
      "outputs": [
        {
          "output_type": "stream",
          "text": [
            "이\n"
          ],
          "name": "stdout"
        }
      ]
    },
    {
      "cell_type": "code",
      "metadata": {
        "colab": {
          "base_uri": "https://localhost:8080/"
        },
        "id": "nkiJsEkmoduu",
        "outputId": "db5f91b2-1fc7-43aa-a489-4275d56a900e"
      },
      "source": [
        "# 변수의 0번째 (1번째)부터 3번째까지의 요소 참조!\r\n",
        "print(myVar[:3])"
      ],
      "execution_count": null,
      "outputs": [
        {
          "output_type": "stream",
          "text": [
            "파이썬\n"
          ],
          "name": "stdout"
        }
      ]
    },
    {
      "cell_type": "code",
      "metadata": {
        "colab": {
          "base_uri": "https://localhost:8080/"
        },
        "id": "fyKkjEKNq0Yc",
        "outputId": "2775f5ff-2828-479b-a6fa-af53c0deaa4a"
      },
      "source": [
        "# 변수의 4번째 (5번째)부터 9번째까지의 요소 참조!\r\n",
        "print(myVar[4:9])"
      ],
      "execution_count": null,
      "outputs": [
        {
          "output_type": "stream",
          "text": [
            "프로그래밍\n"
          ],
          "name": "stdout"
        }
      ]
    }
  ]
}