{
  "nbformat": 4,
  "nbformat_minor": 0,
  "metadata": {
    "colab": {
      "name": "4일차.ipynb",
      "provenance": [],
      "collapsed_sections": [],
      "toc_visible": true
    },
    "kernelspec": {
      "name": "python3",
      "display_name": "Python 3"
    }
  },
  "cells": [
    {
      "cell_type": "markdown",
      "metadata": {
        "id": "AGHlmR-3c920"
      },
      "source": [
        "# 함수"
      ]
    },
    {
      "cell_type": "markdown",
      "metadata": {
        "id": "lKhyoz_hd8eo"
      },
      "source": [
        "## 매개변수 없는 함수"
      ]
    },
    {
      "cell_type": "code",
      "metadata": {
        "id": "KosFygOxc6W_"
      },
      "source": [
        "# 매개변수가 없는 함수\r\n",
        "def say_hello():\r\n",
        "    print(\"안녕하세요.\")"
      ],
      "execution_count": 1,
      "outputs": []
    },
    {
      "cell_type": "code",
      "metadata": {
        "colab": {
          "base_uri": "https://localhost:8080/"
        },
        "id": "N4Avfpl2dJDo",
        "outputId": "b2d4b64a-f013-4cd0-e75a-e45aaae3e90a"
      },
      "source": [
        "say_hello()"
      ],
      "execution_count": 2,
      "outputs": [
        {
          "output_type": "stream",
          "text": [
            "안녕하세요.\n"
          ],
          "name": "stdout"
        }
      ]
    },
    {
      "cell_type": "markdown",
      "metadata": {
        "id": "OFQqMoA_eAvJ"
      },
      "source": [
        "## 매개변수 있는 함수"
      ]
    },
    {
      "cell_type": "code",
      "metadata": {
        "id": "8K8grQ81dKRA"
      },
      "source": [
        "# 매개변수 lang이 있는 함수\r\n",
        "def say_hello2(lang=\"ko\"):\r\n",
        "  if lang == \"ko\":\r\n",
        "    print(\"안녕하세요.\")\r\n",
        "  elif lang == \"en\":\r\n",
        "    print(\"Hello\")"
      ],
      "execution_count": 6,
      "outputs": []
    },
    {
      "cell_type": "code",
      "metadata": {
        "colab": {
          "base_uri": "https://localhost:8080/"
        },
        "id": "UI1COGfOdNbE",
        "outputId": "dade17fd-f1d4-4851-9368-6d429bd3f99d"
      },
      "source": [
        "say_hello2()"
      ],
      "execution_count": 7,
      "outputs": [
        {
          "output_type": "stream",
          "text": [
            "안녕하세요.\n"
          ],
          "name": "stdout"
        }
      ]
    },
    {
      "cell_type": "code",
      "metadata": {
        "colab": {
          "base_uri": "https://localhost:8080/"
        },
        "id": "Nv3zmAtPdaFO",
        "outputId": "d6a9ed9e-96f0-48e9-d8c5-2bebf40d9632"
      },
      "source": [
        "say_hello2(lang=\"en\")"
      ],
      "execution_count": 9,
      "outputs": [
        {
          "output_type": "stream",
          "text": [
            "Hello\n"
          ],
          "name": "stdout"
        }
      ]
    },
    {
      "cell_type": "code",
      "metadata": {
        "id": "v29tM37edber"
      },
      "source": [
        "say_hello2(lang=\"jp\")"
      ],
      "execution_count": 10,
      "outputs": []
    },
    {
      "cell_type": "markdown",
      "metadata": {
        "id": "YZKaU0M2eDVE"
      },
      "source": [
        "## 매개변수와 반환 변수가 있는 함수"
      ]
    },
    {
      "cell_type": "code",
      "metadata": {
        "id": "9SXPtqYPdeog"
      },
      "source": [
        "def say_hello3(lang=\"ko\"):\r\n",
        "  if lang == \"ko\":\r\n",
        "    hello = \"안녕하세요.\"\r\n",
        "  elif lang == \"en\":\r\n",
        "    hello = \"Hello\"\r\n",
        "  return hello"
      ],
      "execution_count": 14,
      "outputs": []
    },
    {
      "cell_type": "code",
      "metadata": {
        "colab": {
          "base_uri": "https://localhost:8080/"
        },
        "id": "KWszb02kdskP",
        "outputId": "487caf47-bca7-473d-d324-780e66902d11"
      },
      "source": [
        "output = say_hello3(lang=\"en\")\r\n",
        "print(output)"
      ],
      "execution_count": 15,
      "outputs": [
        {
          "output_type": "stream",
          "text": [
            "Hello\n"
          ],
          "name": "stdout"
        }
      ]
    },
    {
      "cell_type": "markdown",
      "metadata": {
        "id": "yvoWupQqeHDW"
      },
      "source": [
        "## 함수 심화 (팩토리얼)"
      ]
    },
    {
      "cell_type": "code",
      "metadata": {
        "id": "NlRFkcHqd4dA"
      },
      "source": [
        "def factorial(n):\r\n",
        "    r=1\r\n",
        "    for i in range(1, n+1):\r\n",
        "        r*=i\r\n",
        "    return r"
      ],
      "execution_count": 16,
      "outputs": []
    },
    {
      "cell_type": "code",
      "metadata": {
        "colab": {
          "base_uri": "https://localhost:8080/"
        },
        "id": "HnuXvrGBeLkY",
        "outputId": "dc1ba1c0-3de8-4ad8-a543-b00e64abd91b"
      },
      "source": [
        "print(factorial(5))"
      ],
      "execution_count": 17,
      "outputs": [
        {
          "output_type": "stream",
          "text": [
            "120\n"
          ],
          "name": "stdout"
        }
      ]
    },
    {
      "cell_type": "markdown",
      "metadata": {
        "id": "7QIb3seOeOAK"
      },
      "source": [
        "# 파일 처리"
      ]
    },
    {
      "cell_type": "markdown",
      "metadata": {
        "id": "KyvqoWQ0npDZ"
      },
      "source": [
        "## 파일 불러오기"
      ]
    },
    {
      "cell_type": "code",
      "metadata": {
        "id": "hL1iwY9JeMy7"
      },
      "source": [
        "file = open(\"./세종대왕.txt\", \"r\")\r\n",
        "text = file.read()\r\n",
        "file.close()"
      ],
      "execution_count": 18,
      "outputs": []
    },
    {
      "cell_type": "code",
      "metadata": {
        "colab": {
          "base_uri": "https://localhost:8080/"
        },
        "id": "jLzSk59Gnxsx",
        "outputId": "c8b0beea-0207-45e2-d92a-57a0c0f85921"
      },
      "source": [
        "print(text)"
      ],
      "execution_count": 19,
      "outputs": [
        {
          "output_type": "stream",
          "text": [
            "세종대왕은 제4대 국왕으로, 태종과 원경왕후의 아들이다. 형인 양녕대군이 폐세자되자 세자에 책봉되었으며 태종의 양위를 받아 즉위하였다.\n",
            "\n",
            "세종은 과학 기술, 예술, 문화, 국방 등 많은 분야에서 뛰어난 업적을 남겼는데, 백성들에게 농사에 관한 책을 펴내었지만 글을 읽지 못해 보지 못하는 모습을 보고[2], 누구나 쉽게 배울 수 있는 효율적이고 과학적인 문자 체계인 훈민정음(訓民正音)을 창제하였다. 이것은 20세기 주시경에 의해 한글로 발전되어, 오늘날 대한민국의 공식 문자로서 널리 쓰이고 있다.\n",
            "\n",
            "과학 기술에도 두루 관심을 기울여 혼천의, 앙부일구, 자격루, 측우기 등의 발명을 전폭적으로 지원했고, 신분을 뛰어넘어 장영실, 최해산 등의 학자들을 적극 후원하였다.\n",
            "\n",
            "또한 국방에 있어서는 이종무를 파견하여 왜구를 토벌하고 대마도를 정벌하였으며, 이징옥, 최윤덕 등을 북방으로 보내 평안도와 함길도에 출몰하는 여진족을 국경 밖으로 몰아내고 4군 6진을 개척하여 압록강과 두만강 유역으로 국경을 확장하였고, 백성들을 옮겨 살게 하는 사민정책(徙民政策)을 실시하여 국토의 균형된 발전을 위해서도 노력하였다.\n",
            "\n",
            "정치면에서는 김종서, 맹사성 등을 등용하여 정무를 주관하였는데 이 통치체제는 일종의 내각 중심 정치제도인 의정부서사제의 효시가 되었다. 이 밖에도 법전과 문물을 정비하였고 전분 6등법과 연분 9등법등의 공법(貢法)을 제정하여 조세 제도의 확립에도 업적을 남겼다.\n"
          ],
          "name": "stdout"
        }
      ]
    },
    {
      "cell_type": "markdown",
      "metadata": {
        "id": "6G-6Sd3Rn36y"
      },
      "source": [
        "## 파일 저장하기"
      ]
    },
    {
      "cell_type": "code",
      "metadata": {
        "id": "CDm05vOYnzWc"
      },
      "source": [
        "text = \"저장하고 싶은 나만의 텍스트\"\r\n",
        "with open(\"./나의_텍스트.txt\", \"w\") as file:\r\n",
        "  file.write(text)\r\n",
        "file.close()"
      ],
      "execution_count": 20,
      "outputs": []
    }
  ]
}