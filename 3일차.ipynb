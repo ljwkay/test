{
  "nbformat": 4,
  "nbformat_minor": 0,
  "metadata": {
    "colab": {
      "name": "3일차.ipynb",
      "provenance": [],
      "collapsed_sections": []
    },
    "kernelspec": {
      "name": "python3",
      "display_name": "Python 3"
    }
  },
  "cells": [
    {
      "cell_type": "markdown",
      "metadata": {
        "id": "i8WCbgmMF1IC"
      },
      "source": [
        "# 조건문"
      ]
    },
    {
      "cell_type": "markdown",
      "metadata": {
        "id": "zx9sJtdXGduK"
      },
      "source": [
        "## 우유의 가격이 5,000원일 때"
      ]
    },
    {
      "cell_type": "code",
      "metadata": {
        "id": "USZJ-_I6F0ur"
      },
      "source": [
        "priceOfMilk = 5000"
      ],
      "execution_count": 3,
      "outputs": []
    },
    {
      "cell_type": "code",
      "metadata": {
        "colab": {
          "base_uri": "https://localhost:8080/"
        },
        "id": "LeoZUIj3F_Vd",
        "outputId": "b2b3ad5b-59d4-4b64-995e-3d60b4b195a6"
      },
      "source": [
        "if priceOfMilk == 4000:\r\n",
        "  print(\"한 개 산다!\")\r\n",
        "elif priceOfMilk > 4000:\r\n",
        "  print(\"안 산다!\")\r\n",
        "else:\r\n",
        "  print(\"두 개 산다!\")"
      ],
      "execution_count": 4,
      "outputs": [
        {
          "output_type": "stream",
          "text": [
            "안 산다!\n"
          ],
          "name": "stdout"
        }
      ]
    },
    {
      "cell_type": "markdown",
      "metadata": {
        "id": "Ls3wWjsSGh5o"
      },
      "source": [
        "## 우유의 가격이 4,000원일 때"
      ]
    },
    {
      "cell_type": "code",
      "metadata": {
        "id": "OyptO2CIGNyU"
      },
      "source": [
        "priceOfMilk = 4000"
      ],
      "execution_count": 5,
      "outputs": []
    },
    {
      "cell_type": "code",
      "metadata": {
        "colab": {
          "base_uri": "https://localhost:8080/"
        },
        "id": "Z7nKpeGnGQib",
        "outputId": "4faba47a-628e-4c0a-8fd3-a538e4d12f12"
      },
      "source": [
        "if priceOfMilk == 4000:\r\n",
        "  print(\"한 개 산다!\")\r\n",
        "elif priceOfMilk > 4000:\r\n",
        "  print(\"안 산다!\")\r\n",
        "else:\r\n",
        "  print(\"두 개 산다!\")"
      ],
      "execution_count": 6,
      "outputs": [
        {
          "output_type": "stream",
          "text": [
            "한 개 산다!\n"
          ],
          "name": "stdout"
        }
      ]
    },
    {
      "cell_type": "markdown",
      "metadata": {
        "id": "LI0C579pGiSz"
      },
      "source": [
        "## 우유의 가격이 2,000원일 때"
      ]
    },
    {
      "cell_type": "code",
      "metadata": {
        "id": "V5_3bViIGSrJ"
      },
      "source": [
        "priceOfMilk = 2000"
      ],
      "execution_count": 8,
      "outputs": []
    },
    {
      "cell_type": "code",
      "metadata": {
        "colab": {
          "base_uri": "https://localhost:8080/"
        },
        "id": "j-1S9KwQGVnM",
        "outputId": "2e662252-02d9-4b35-c310-9d5a419ac72b"
      },
      "source": [
        "if priceOfMilk == 4000:\r\n",
        "  print(\"한 개 산다!\")\r\n",
        "elif priceOfMilk > 4000:\r\n",
        "  print(\"안 산다!\")\r\n",
        "else:\r\n",
        "  print(\"두 개 산다!\")"
      ],
      "execution_count": 9,
      "outputs": [
        {
          "output_type": "stream",
          "text": [
            "두 개 산다!\n"
          ],
          "name": "stdout"
        }
      ]
    },
    {
      "cell_type": "markdown",
      "metadata": {
        "id": "A-xDEz5TG0U9"
      },
      "source": [
        "# 반복문"
      ]
    },
    {
      "cell_type": "markdown",
      "metadata": {
        "id": "npuCTrGxG1xW"
      },
      "source": [
        "## 반복문이 없으면"
      ]
    },
    {
      "cell_type": "code",
      "metadata": {
        "colab": {
          "base_uri": "https://localhost:8080/"
        },
        "id": "QIiS3z4UG6VB",
        "outputId": "0295a8fb-620a-4744-90e1-d8adc1c4615a"
      },
      "source": [
        "# 일일이 명령을 반복해서 작성하는 것은 비효율적인 코드 작성법이다.\r\n",
        "print(\"1번 편지를 보냈습니다.\")\r\n",
        "print(\"2번 편지를 보냈습니다.\")\r\n",
        "print(\"3번 편지를 보냈습니다.\")\r\n",
        "print(\"4번 편지를 보냈습니다.\")\r\n",
        "print(\"5번 편지를 보냈습니다.\")\r\n",
        "print(\"6번 편지를 보냈습니다.\")\r\n",
        "print(\"7번 편지를 보냈습니다.\")\r\n",
        "print(\"8번 편지를 보냈습니다.\")\r\n",
        "print(\"9번 편지를 보냈습니다.\")\r\n",
        "print(\"10번 편지를 보냈습니다.\")"
      ],
      "execution_count": 11,
      "outputs": [
        {
          "output_type": "stream",
          "text": [
            "1번 편지를 보냈습니다.\n",
            "2번 편지를 보냈습니다.\n",
            "3번 편지를 보냈습니다.\n",
            "4번 편지를 보냈습니다.\n",
            "5번 편지를 보냈습니다.\n",
            "6번 편지를 보냈습니다.\n",
            "7번 편지를 보냈습니다.\n",
            "8번 편지를 보냈습니다.\n",
            "9번 편지를 보냈습니다.\n",
            "10번 편지를 보냈습니다.\n"
          ],
          "name": "stdout"
        }
      ]
    },
    {
      "cell_type": "markdown",
      "metadata": {
        "id": "_RKgw0dgG4uW"
      },
      "source": [
        "## for 문을 사용한다면"
      ]
    },
    {
      "cell_type": "code",
      "metadata": {
        "colab": {
          "base_uri": "https://localhost:8080/"
        },
        "id": "QTRyhHYCHKwK",
        "outputId": "67ce3138-4c9a-4bb6-860e-478213c3424b"
      },
      "source": [
        "for i in range(10): # range()는 정수를 입력으로 받아 그 횟수만큼 반복을 수행한다.\r\n",
        "  print(i+1, \"번 편지를 보냈습니다.\")"
      ],
      "execution_count": 13,
      "outputs": [
        {
          "output_type": "stream",
          "text": [
            "1 번 편지를 보냈습니다.\n",
            "2 번 편지를 보냈습니다.\n",
            "3 번 편지를 보냈습니다.\n",
            "4 번 편지를 보냈습니다.\n",
            "5 번 편지를 보냈습니다.\n",
            "6 번 편지를 보냈습니다.\n",
            "7 번 편지를 보냈습니다.\n",
            "8 번 편지를 보냈습니다.\n",
            "9 번 편지를 보냈습니다.\n",
            "10 번 편지를 보냈습니다.\n"
          ],
          "name": "stdout"
        }
      ]
    },
    {
      "cell_type": "markdown",
      "metadata": {
        "id": "ES9c9TUiHLmF"
      },
      "source": [
        "## while 문을 사용한다면"
      ]
    },
    {
      "cell_type": "code",
      "metadata": {
        "colab": {
          "base_uri": "https://localhost:8080/"
        },
        "id": "nllyGRgfHKcb",
        "outputId": "2be11371-14fb-4053-d90e-8120625e4a8e"
      },
      "source": [
        "i=0 # 변수 초기 선언\r\n",
        "while i < 10:\r\n",
        "  i+=1 # i가 print문의 앞에 있기때문에 0이 아닌 1부터 출력된다.\r\n",
        "  print(i, \"번 편지를 보냈습니다.\")"
      ],
      "execution_count": 15,
      "outputs": [
        {
          "output_type": "stream",
          "text": [
            "1 번 편지를 보냈습니다.\n",
            "2 번 편지를 보냈습니다.\n",
            "3 번 편지를 보냈습니다.\n",
            "4 번 편지를 보냈습니다.\n",
            "5 번 편지를 보냈습니다.\n",
            "6 번 편지를 보냈습니다.\n",
            "7 번 편지를 보냈습니다.\n",
            "8 번 편지를 보냈습니다.\n",
            "9 번 편지를 보냈습니다.\n",
            "10 번 편지를 보냈습니다.\n"
          ],
          "name": "stdout"
        }
      ]
    },
    {
      "cell_type": "code",
      "metadata": {
        "colab": {
          "base_uri": "https://localhost:8080/"
        },
        "id": "vs2Duzgk_znF",
        "outputId": "4fd34294-0756-4474-fb34-0da2ac858111"
      },
      "source": [
        "i=0 # 변수 초기 선언\r\n",
        "while True: # 의도적으로 무한 루프를 선언\r\n",
        "  if i < 10:\r\n",
        "    i+=1\r\n",
        "  else:\r\n",
        "    break\r\n",
        "  print(i, \"번 편지를 보냈습니다.\")"
      ],
      "execution_count": 16,
      "outputs": [
        {
          "output_type": "stream",
          "text": [
            "1 번 편지를 보냈습니다.\n",
            "2 번 편지를 보냈습니다.\n",
            "3 번 편지를 보냈습니다.\n",
            "4 번 편지를 보냈습니다.\n",
            "5 번 편지를 보냈습니다.\n",
            "6 번 편지를 보냈습니다.\n",
            "7 번 편지를 보냈습니다.\n",
            "8 번 편지를 보냈습니다.\n",
            "9 번 편지를 보냈습니다.\n",
            "10 번 편지를 보냈습니다.\n"
          ],
          "name": "stdout"
        }
      ]
    }
  ]
}