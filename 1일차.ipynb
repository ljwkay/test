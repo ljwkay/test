{
  "nbformat": 4,
  "nbformat_minor": 0,
  "metadata": {
    "colab": {
      "name": "1일차.ipynb",
      "provenance": [],
      "collapsed_sections": []
    },
    "kernelspec": {
      "name": "python3",
      "display_name": "Python 3"
    }
  },
  "cells": [
    {
      "cell_type": "markdown",
      "metadata": {
        "id": "-OcU8u6W0eGw"
      },
      "source": [
        "# Hello World!"
      ]
    },
    {
      "cell_type": "code",
      "metadata": {
        "colab": {
          "base_uri": "https://localhost:8080/"
        },
        "id": "NqXfR654zx94",
        "outputId": "054c5deb-6981-4824-afca-f4c5dec9d816"
      },
      "source": [
        "print(\"Hello World!\")"
      ],
      "execution_count": null,
      "outputs": [
        {
          "output_type": "stream",
          "text": [
            "Hello World!\n"
          ],
          "name": "stdout"
        }
      ]
    },
    {
      "cell_type": "markdown",
      "metadata": {
        "id": "qf_Y_mw_0hyM"
      },
      "source": [
        "# 나만의 \"Hello World!\" 만들기!"
      ]
    },
    {
      "cell_type": "code",
      "metadata": {
        "colab": {
          "base_uri": "https://localhost:8080/"
        },
        "id": "sH2yXgdH0ni3",
        "outputId": "bf0cb636-d46f-4641-f60a-4a75e84c7afa"
      },
      "source": [
        "print(\"나만의 텍스트를 적어보자!\")"
      ],
      "execution_count": null,
      "outputs": [
        {
          "output_type": "stream",
          "text": [
            "나만의 텍스트를 적어보자!\n"
          ],
          "name": "stdout"
        }
      ]
    },
    {
      "cell_type": "markdown",
      "metadata": {
        "id": "qs8mInLX77nZ"
      },
      "source": [
        "# 숫자 표시"
      ]
    },
    {
      "cell_type": "code",
      "metadata": {
        "colab": {
          "base_uri": "https://localhost:8080/"
        },
        "id": "_pLv_aV37-CB",
        "outputId": "2fe5602c-55ae-49d7-b464-38d8483eed50"
      },
      "source": [
        "print(2021)"
      ],
      "execution_count": null,
      "outputs": [
        {
          "output_type": "stream",
          "text": [
            "2021\n"
          ],
          "name": "stdout"
        }
      ]
    },
    {
      "cell_type": "markdown",
      "metadata": {
        "id": "bKgdp1Iq8Hq1"
      },
      "source": [
        "# 숫자 연산 결과 표시"
      ]
    },
    {
      "cell_type": "code",
      "metadata": {
        "colab": {
          "base_uri": "https://localhost:8080/"
        },
        "id": "fBcfy5ye8F82",
        "outputId": "23cb5fe7-588a-45de-c6a8-91488011397c"
      },
      "source": [
        "print(2 + 2) # 덧셈"
      ],
      "execution_count": null,
      "outputs": [
        {
          "output_type": "stream",
          "text": [
            "4\n"
          ],
          "name": "stdout"
        }
      ]
    },
    {
      "cell_type": "code",
      "metadata": {
        "colab": {
          "base_uri": "https://localhost:8080/"
        },
        "id": "RUE77BRE8P0V",
        "outputId": "7d5c1fca-67eb-49d5-8239-d384b57aecae"
      },
      "source": [
        "print(2 - 2) # 뺄셈"
      ],
      "execution_count": null,
      "outputs": [
        {
          "output_type": "stream",
          "text": [
            "0\n"
          ],
          "name": "stdout"
        }
      ]
    },
    {
      "cell_type": "code",
      "metadata": {
        "colab": {
          "base_uri": "https://localhost:8080/"
        },
        "id": "YFTU_BZi8UZr",
        "outputId": "d29e2ffd-9835-4888-db52-306d96175148"
      },
      "source": [
        "print(2*2) # 곱셈"
      ],
      "execution_count": null,
      "outputs": [
        {
          "output_type": "stream",
          "text": [
            "4\n"
          ],
          "name": "stdout"
        }
      ]
    },
    {
      "cell_type": "code",
      "metadata": {
        "colab": {
          "base_uri": "https://localhost:8080/"
        },
        "id": "Up7y4Yso8WsI",
        "outputId": "4bd7f42c-9c31-4728-ab76-a8fe34bddade"
      },
      "source": [
        "print(2/2) # 나눗셈"
      ],
      "execution_count": null,
      "outputs": [
        {
          "output_type": "stream",
          "text": [
            "1.0\n"
          ],
          "name": "stdout"
        }
      ]
    },
    {
      "cell_type": "markdown",
      "metadata": {
        "id": "kEsIRh6lhCyz"
      },
      "source": [
        "# 문자 간의 연산"
      ]
    },
    {
      "cell_type": "code",
      "metadata": {
        "colab": {
          "base_uri": "https://localhost:8080/"
        },
        "id": "ybjxjb4fhGcM",
        "outputId": "93b6158b-ed39-42a8-b976-4521dfcf519a"
      },
      "source": [
        "myString = \"Korea\"\r\n",
        "print(myString+myString)"
      ],
      "execution_count": 2,
      "outputs": [
        {
          "output_type": "stream",
          "text": [
            "KoreaKorea\n"
          ],
          "name": "stdout"
        }
      ]
    },
    {
      "cell_type": "code",
      "metadata": {
        "colab": {
          "base_uri": "https://localhost:8080/"
        },
        "id": "oLpLa-1MhJzg",
        "outputId": "662dbf3f-1230-4172-b883-9e667a68caa4"
      },
      "source": [
        "print(myString*3)"
      ],
      "execution_count": 3,
      "outputs": [
        {
          "output_type": "stream",
          "text": [
            "KoreaKoreaKorea\n"
          ],
          "name": "stdout"
        }
      ]
    }
  ]
}